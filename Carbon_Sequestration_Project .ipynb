{
 "cells": [
  {
   "cell_type": "markdown",
   "id": "0e53d0c2",
   "metadata": {},
   "source": [
    "## Predictive modeling"
   ]
  },
  {
   "cell_type": "markdown",
   "id": "0ad01103",
   "metadata": {},
   "source": [
    "#### Importing Libraries"
   ]
  },
  {
   "cell_type": "code",
   "execution_count": 2,
   "id": "08f90de4",
   "metadata": {},
   "outputs": [],
   "source": [
    "import numpy as np \n",
    "import pandas as pd\n",
    "import random #Faker\n",
    "from sklearn.ensemble import RandomForestRegressor "
   ]
  },
  {
   "cell_type": "code",
   "execution_count": 28,
   "id": "41b2d6a3",
   "metadata": {},
   "outputs": [
    {
     "name": "stderr",
     "output_type": "stream",
     "text": [
      "Matplotlib is building the font cache; this may take a moment.\n"
     ]
    }
   ],
   "source": [
    "# Libaries to help with data visualization\n",
    "import matplotlib.pyplot as plt\n",
    "import seaborn as sns"
   ]
  },
  {
   "cell_type": "markdown",
   "id": "5bd6b846",
   "metadata": {},
   "source": [
    "#### Generating Random Dataset"
   ]
  },
  {
   "cell_type": "code",
   "execution_count": 4,
   "id": "7bd34ef0",
   "metadata": {},
   "outputs": [],
   "source": [
    "location_id = [i for i in range(1, 2001)]\n",
    "soil_moisture = [random.randint(22, 60) for i in range(2000)]\n",
    "temperature = [random.randint(30, 40) for i in range(2000)]\n",
    "carbon_dioxide_levels = [random.uniform(60, 100) for i in range(2000)]\n",
    "carbon_sequestration_rate = [random.choice([0, 1]) for i in range(2000)]"
   ]
  },
  {
   "cell_type": "code",
   "execution_count": 6,
   "id": "c0776aee",
   "metadata": {},
   "outputs": [],
   "source": [
    "data = {\"location_id\": location_id, \"soil_moisture\": soil_moisture, \"temperature\": temperature, \"carbon_dioxide_levels\": carbon_dioxide_levels,\n",
    "        \"carbon_sequestration_rate\": carbon_sequestration_rate}"
   ]
  },
  {
   "cell_type": "code",
   "execution_count": 7,
   "id": "bb05eb67",
   "metadata": {},
   "outputs": [],
   "source": [
    "df = pd.DataFrame(data)\n",
    "df = df.sample(frac=1).reset_index(drop=True)  # shuffle the data"
   ]
  },
  {
   "cell_type": "code",
   "execution_count": 8,
   "id": "e01ebe97",
   "metadata": {},
   "outputs": [],
   "source": [
    "df.to_csv(\"C:/Users/USER/Desktop/Data Science/data.csv\", index=False)  # save the data to a csv file"
   ]
  },
  {
   "cell_type": "code",
   "execution_count": 10,
   "id": "b188eebb",
   "metadata": {},
   "outputs": [],
   "source": [
    "# Load data  \n",
    "data = pd.read_csv('data.csv') "
   ]
  },
  {
   "cell_type": "code",
   "execution_count": 12,
   "id": "9341467d",
   "metadata": {},
   "outputs": [
    {
     "data": {
      "text/html": [
       "<div>\n",
       "<style scoped>\n",
       "    .dataframe tbody tr th:only-of-type {\n",
       "        vertical-align: middle;\n",
       "    }\n",
       "\n",
       "    .dataframe tbody tr th {\n",
       "        vertical-align: top;\n",
       "    }\n",
       "\n",
       "    .dataframe thead th {\n",
       "        text-align: right;\n",
       "    }\n",
       "</style>\n",
       "<table border=\"1\" class=\"dataframe\">\n",
       "  <thead>\n",
       "    <tr style=\"text-align: right;\">\n",
       "      <th></th>\n",
       "      <th>location_id</th>\n",
       "      <th>soil_moisture</th>\n",
       "      <th>temperature</th>\n",
       "      <th>carbon_dioxide_levels</th>\n",
       "      <th>carbon_sequestration_rate</th>\n",
       "    </tr>\n",
       "  </thead>\n",
       "  <tbody>\n",
       "    <tr>\n",
       "      <th>0</th>\n",
       "      <td>1328</td>\n",
       "      <td>33</td>\n",
       "      <td>34</td>\n",
       "      <td>65.600784</td>\n",
       "      <td>0</td>\n",
       "    </tr>\n",
       "    <tr>\n",
       "      <th>1</th>\n",
       "      <td>1046</td>\n",
       "      <td>46</td>\n",
       "      <td>40</td>\n",
       "      <td>74.922527</td>\n",
       "      <td>1</td>\n",
       "    </tr>\n",
       "    <tr>\n",
       "      <th>2</th>\n",
       "      <td>1301</td>\n",
       "      <td>22</td>\n",
       "      <td>32</td>\n",
       "      <td>77.748347</td>\n",
       "      <td>0</td>\n",
       "    </tr>\n",
       "    <tr>\n",
       "      <th>3</th>\n",
       "      <td>168</td>\n",
       "      <td>25</td>\n",
       "      <td>36</td>\n",
       "      <td>97.701226</td>\n",
       "      <td>0</td>\n",
       "    </tr>\n",
       "    <tr>\n",
       "      <th>4</th>\n",
       "      <td>572</td>\n",
       "      <td>50</td>\n",
       "      <td>35</td>\n",
       "      <td>74.095670</td>\n",
       "      <td>0</td>\n",
       "    </tr>\n",
       "  </tbody>\n",
       "</table>\n",
       "</div>"
      ],
      "text/plain": [
       "   location_id  soil_moisture  temperature  carbon_dioxide_levels  \\\n",
       "0         1328             33           34              65.600784   \n",
       "1         1046             46           40              74.922527   \n",
       "2         1301             22           32              77.748347   \n",
       "3          168             25           36              97.701226   \n",
       "4          572             50           35              74.095670   \n",
       "\n",
       "   carbon_sequestration_rate  \n",
       "0                          0  \n",
       "1                          1  \n",
       "2                          0  \n",
       "3                          0  \n",
       "4                          0  "
      ]
     },
     "execution_count": 12,
     "metadata": {},
     "output_type": "execute_result"
    }
   ],
   "source": [
    "data.head()"
   ]
  },
  {
   "cell_type": "code",
   "execution_count": 13,
   "id": "75b45f46",
   "metadata": {},
   "outputs": [
    {
     "data": {
      "text/html": [
       "<div>\n",
       "<style scoped>\n",
       "    .dataframe tbody tr th:only-of-type {\n",
       "        vertical-align: middle;\n",
       "    }\n",
       "\n",
       "    .dataframe tbody tr th {\n",
       "        vertical-align: top;\n",
       "    }\n",
       "\n",
       "    .dataframe thead th {\n",
       "        text-align: right;\n",
       "    }\n",
       "</style>\n",
       "<table border=\"1\" class=\"dataframe\">\n",
       "  <thead>\n",
       "    <tr style=\"text-align: right;\">\n",
       "      <th></th>\n",
       "      <th>location_id</th>\n",
       "      <th>soil_moisture</th>\n",
       "      <th>temperature</th>\n",
       "      <th>carbon_dioxide_levels</th>\n",
       "      <th>carbon_sequestration_rate</th>\n",
       "    </tr>\n",
       "  </thead>\n",
       "  <tbody>\n",
       "    <tr>\n",
       "      <th>1995</th>\n",
       "      <td>1636</td>\n",
       "      <td>52</td>\n",
       "      <td>32</td>\n",
       "      <td>79.906562</td>\n",
       "      <td>0</td>\n",
       "    </tr>\n",
       "    <tr>\n",
       "      <th>1996</th>\n",
       "      <td>1885</td>\n",
       "      <td>56</td>\n",
       "      <td>38</td>\n",
       "      <td>94.861423</td>\n",
       "      <td>0</td>\n",
       "    </tr>\n",
       "    <tr>\n",
       "      <th>1997</th>\n",
       "      <td>1174</td>\n",
       "      <td>51</td>\n",
       "      <td>30</td>\n",
       "      <td>85.438533</td>\n",
       "      <td>1</td>\n",
       "    </tr>\n",
       "    <tr>\n",
       "      <th>1998</th>\n",
       "      <td>1111</td>\n",
       "      <td>23</td>\n",
       "      <td>35</td>\n",
       "      <td>71.968219</td>\n",
       "      <td>1</td>\n",
       "    </tr>\n",
       "    <tr>\n",
       "      <th>1999</th>\n",
       "      <td>1826</td>\n",
       "      <td>57</td>\n",
       "      <td>30</td>\n",
       "      <td>66.985341</td>\n",
       "      <td>0</td>\n",
       "    </tr>\n",
       "  </tbody>\n",
       "</table>\n",
       "</div>"
      ],
      "text/plain": [
       "      location_id  soil_moisture  temperature  carbon_dioxide_levels  \\\n",
       "1995         1636             52           32              79.906562   \n",
       "1996         1885             56           38              94.861423   \n",
       "1997         1174             51           30              85.438533   \n",
       "1998         1111             23           35              71.968219   \n",
       "1999         1826             57           30              66.985341   \n",
       "\n",
       "      carbon_sequestration_rate  \n",
       "1995                          0  \n",
       "1996                          0  \n",
       "1997                          1  \n",
       "1998                          1  \n",
       "1999                          0  "
      ]
     },
     "execution_count": 13,
     "metadata": {},
     "output_type": "execute_result"
    }
   ],
   "source": [
    "data.tail()"
   ]
  },
  {
   "cell_type": "code",
   "execution_count": 15,
   "id": "484f3615",
   "metadata": {},
   "outputs": [
    {
     "data": {
      "text/plain": [
       "(2000, 5)"
      ]
     },
     "execution_count": 15,
     "metadata": {},
     "output_type": "execute_result"
    }
   ],
   "source": [
    "data.shape"
   ]
  },
  {
   "cell_type": "code",
   "execution_count": 16,
   "id": "19e09deb",
   "metadata": {},
   "outputs": [
    {
     "data": {
      "text/plain": [
       "location_id                    int64\n",
       "soil_moisture                  int64\n",
       "temperature                    int64\n",
       "carbon_dioxide_levels        float64\n",
       "carbon_sequestration_rate      int64\n",
       "dtype: object"
      ]
     },
     "execution_count": 16,
     "metadata": {},
     "output_type": "execute_result"
    }
   ],
   "source": [
    "data.dtypes"
   ]
  },
  {
   "cell_type": "code",
   "execution_count": 21,
   "id": "dd9bd551",
   "metadata": {},
   "outputs": [
    {
     "data": {
      "text/html": [
       "<div>\n",
       "<style scoped>\n",
       "    .dataframe tbody tr th:only-of-type {\n",
       "        vertical-align: middle;\n",
       "    }\n",
       "\n",
       "    .dataframe tbody tr th {\n",
       "        vertical-align: top;\n",
       "    }\n",
       "\n",
       "    .dataframe thead th {\n",
       "        text-align: right;\n",
       "    }\n",
       "</style>\n",
       "<table border=\"1\" class=\"dataframe\">\n",
       "  <thead>\n",
       "    <tr style=\"text-align: right;\">\n",
       "      <th></th>\n",
       "      <th>count</th>\n",
       "      <th>mean</th>\n",
       "      <th>std</th>\n",
       "      <th>min</th>\n",
       "      <th>25%</th>\n",
       "      <th>50%</th>\n",
       "      <th>75%</th>\n",
       "      <th>max</th>\n",
       "    </tr>\n",
       "  </thead>\n",
       "  <tbody>\n",
       "    <tr>\n",
       "      <th>location_id</th>\n",
       "      <td>2000.0</td>\n",
       "      <td>1000.500000</td>\n",
       "      <td>577.494589</td>\n",
       "      <td>1.000000</td>\n",
       "      <td>500.750000</td>\n",
       "      <td>1000.500000</td>\n",
       "      <td>1500.250000</td>\n",
       "      <td>2000.000000</td>\n",
       "    </tr>\n",
       "    <tr>\n",
       "      <th>soil_moisture</th>\n",
       "      <td>2000.0</td>\n",
       "      <td>40.815000</td>\n",
       "      <td>11.188716</td>\n",
       "      <td>22.000000</td>\n",
       "      <td>31.000000</td>\n",
       "      <td>41.000000</td>\n",
       "      <td>50.000000</td>\n",
       "      <td>60.000000</td>\n",
       "    </tr>\n",
       "    <tr>\n",
       "      <th>temperature</th>\n",
       "      <td>2000.0</td>\n",
       "      <td>34.947000</td>\n",
       "      <td>3.210817</td>\n",
       "      <td>30.000000</td>\n",
       "      <td>32.000000</td>\n",
       "      <td>35.000000</td>\n",
       "      <td>38.000000</td>\n",
       "      <td>40.000000</td>\n",
       "    </tr>\n",
       "    <tr>\n",
       "      <th>carbon_dioxide_levels</th>\n",
       "      <td>2000.0</td>\n",
       "      <td>79.997898</td>\n",
       "      <td>11.773120</td>\n",
       "      <td>60.052626</td>\n",
       "      <td>69.873565</td>\n",
       "      <td>79.954665</td>\n",
       "      <td>90.434562</td>\n",
       "      <td>99.988438</td>\n",
       "    </tr>\n",
       "    <tr>\n",
       "      <th>carbon_sequestration_rate</th>\n",
       "      <td>2000.0</td>\n",
       "      <td>0.494500</td>\n",
       "      <td>0.500095</td>\n",
       "      <td>0.000000</td>\n",
       "      <td>0.000000</td>\n",
       "      <td>0.000000</td>\n",
       "      <td>1.000000</td>\n",
       "      <td>1.000000</td>\n",
       "    </tr>\n",
       "  </tbody>\n",
       "</table>\n",
       "</div>"
      ],
      "text/plain": [
       "                            count         mean         std        min  \\\n",
       "location_id                2000.0  1000.500000  577.494589   1.000000   \n",
       "soil_moisture              2000.0    40.815000   11.188716  22.000000   \n",
       "temperature                2000.0    34.947000    3.210817  30.000000   \n",
       "carbon_dioxide_levels      2000.0    79.997898   11.773120  60.052626   \n",
       "carbon_sequestration_rate  2000.0     0.494500    0.500095   0.000000   \n",
       "\n",
       "                                  25%          50%          75%          max  \n",
       "location_id                500.750000  1000.500000  1500.250000  2000.000000  \n",
       "soil_moisture               31.000000    41.000000    50.000000    60.000000  \n",
       "temperature                 32.000000    35.000000    38.000000    40.000000  \n",
       "carbon_dioxide_levels       69.873565    79.954665    90.434562    99.988438  \n",
       "carbon_sequestration_rate    0.000000     0.000000     1.000000     1.000000  "
      ]
     },
     "execution_count": 21,
     "metadata": {},
     "output_type": "execute_result"
    }
   ],
   "source": [
    "data.describe().T"
   ]
  },
  {
   "cell_type": "code",
   "execution_count": 23,
   "id": "1429b517",
   "metadata": {},
   "outputs": [
    {
     "data": {
      "text/plain": [
       "location_id                  0\n",
       "soil_moisture                0\n",
       "temperature                  0\n",
       "carbon_dioxide_levels        0\n",
       "carbon_sequestration_rate    0\n",
       "dtype: int64"
      ]
     },
     "execution_count": 23,
     "metadata": {},
     "output_type": "execute_result"
    }
   ],
   "source": [
    "data.isnull().sum()"
   ]
  },
  {
   "cell_type": "code",
   "execution_count": 24,
   "id": "98f28d5e",
   "metadata": {},
   "outputs": [
    {
     "name": "stdout",
     "output_type": "stream",
     "text": [
      "<class 'pandas.core.frame.DataFrame'>\n",
      "RangeIndex: 2000 entries, 0 to 1999\n",
      "Data columns (total 5 columns):\n",
      " #   Column                     Non-Null Count  Dtype  \n",
      "---  ------                     --------------  -----  \n",
      " 0   location_id                2000 non-null   int64  \n",
      " 1   soil_moisture              2000 non-null   int64  \n",
      " 2   temperature                2000 non-null   int64  \n",
      " 3   carbon_dioxide_levels      2000 non-null   float64\n",
      " 4   carbon_sequestration_rate  2000 non-null   int64  \n",
      "dtypes: float64(1), int64(4)\n",
      "memory usage: 78.3 KB\n"
     ]
    }
   ],
   "source": [
    "data.info()"
   ]
  },
  {
   "cell_type": "code",
   "execution_count": 25,
   "id": "b30bd0ce",
   "metadata": {},
   "outputs": [
    {
     "data": {
      "text/plain": [
       "0"
      ]
     },
     "execution_count": 25,
     "metadata": {},
     "output_type": "execute_result"
    }
   ],
   "source": [
    "data.duplicated().sum()"
   ]
  },
  {
   "cell_type": "code",
   "execution_count": 26,
   "id": "0049908b",
   "metadata": {},
   "outputs": [
    {
     "data": {
      "text/plain": [
       "location_id                  2000\n",
       "soil_moisture                  39\n",
       "temperature                    11\n",
       "carbon_dioxide_levels        2000\n",
       "carbon_sequestration_rate       2\n",
       "dtype: int64"
      ]
     },
     "execution_count": 26,
     "metadata": {},
     "output_type": "execute_result"
    }
   ],
   "source": [
    "data.nunique()"
   ]
  },
  {
   "cell_type": "code",
   "execution_count": 29,
   "id": "184fcef1",
   "metadata": {},
   "outputs": [
    {
     "data": {
      "image/png": "[encoded data removed]",
      "text/plain": [
       "<Figure size 1500x700 with 2 Axes>"
      ]
     },
     "metadata": {},
     "output_type": "display_data"
    }
   ],
   "source": [
    "plt.figure(figsize=(15, 7))\n",
    "sns.heatmap(data.corr(), annot=True, vmin=-1, vmax=1, fmt=\".2f\", cmap=\"Spectral\")\n",
    "plt.show()"
   ]
  },
  {
   "cell_type": "code",
   "execution_count": 30,
   "id": "a489d625",
   "metadata": {},
   "outputs": [],
   "source": [
    "# Split data into input features (X) and target variable (y) \n",
    "X = data[['soil_moisture', 'temperature', 'carbon_dioxide_levels']] \n",
    "y = data['carbon_sequestration_rate'] "
   ]
  },
  {
   "cell_type": "code",
   "execution_count": 31,
   "id": "c263e446",
   "metadata": {},
   "outputs": [
    {
     "data": {
      "text/html": [
       "<style>#sk-container-id-1 {color: black;background-color: white;}#sk-container-id-1 pre{padding: 0;}#sk-container-id-1 div.sk-toggleable {background-color: white;}#sk-container-id-1 label.sk-toggleable__label {cursor: pointer;display: block;width: 100%;margin-bottom: 0;padding: 0.3em;box-sizing: border-box;text-align: center;}#sk-container-id-1 label.sk-toggleable__label-arrow:before {content: \"▸\";float: left;margin-right: 0.25em;color: #696969;}#sk-container-id-1 label.sk-toggleable__label-arrow:hover:before {color: black;}#sk-container-id-1 div.sk-estimator:hover label.sk-toggleable__label-arrow:before {color: black;}#sk-container-id-1 div.sk-toggleable__content {max-height: 0;max-width: 0;overflow: hidden;text-align: left;background-color: #f0f8ff;}#sk-container-id-1 div.sk-toggleable__content pre {margin: 0.2em;color: black;border-radius: 0.25em;background-color: #f0f8ff;}#sk-container-id-1 input.sk-toggleable__control:checked~div.sk-toggleable__content {max-height: 200px;max-width: 100%;overflow: auto;}#sk-container-id-1 input.sk-toggleable__control:checked~label.sk-toggleable__label-arrow:before {content: \"▾\";}#sk-container-id-1 div.sk-estimator input.sk-toggleable__control:checked~label.sk-toggleable__label {background-color: #d4ebff;}#sk-container-id-1 div.sk-label input.sk-toggleable__control:checked~label.sk-toggleable__label {background-color: #d4ebff;}#sk-container-id-1 input.sk-hidden--visually {border: 0;clip: rect(1px 1px 1px 1px);clip: rect(1px, 1px, 1px, 1px);height: 1px;margin: -1px;overflow: hidden;padding: 0;position: absolute;width: 1px;}#sk-container-id-1 div.sk-estimator {font-family: monospace;background-color: #f0f8ff;border: 1px dotted black;border-radius: 0.25em;box-sizing: border-box;margin-bottom: 0.5em;}#sk-container-id-1 div.sk-estimator:hover {background-color: #d4ebff;}#sk-container-id-1 div.sk-parallel-item::after {content: \"\";width: 100%;border-bottom: 1px solid gray;flex-grow: 1;}#sk-container-id-1 div.sk-label:hover label.sk-toggleable__label {background-color: #d4ebff;}#sk-container-id-1 div.sk-serial::before {content: \"\";position: absolute;border-left: 1px solid gray;box-sizing: border-box;top: 0;bottom: 0;left: 50%;z-index: 0;}#sk-container-id-1 div.sk-serial {display: flex;flex-direction: column;align-items: center;background-color: white;padding-right: 0.2em;padding-left: 0.2em;position: relative;}#sk-container-id-1 div.sk-item {position: relative;z-index: 1;}#sk-container-id-1 div.sk-parallel {display: flex;align-items: stretch;justify-content: center;background-color: white;position: relative;}#sk-container-id-1 div.sk-item::before, #sk-container-id-1 div.sk-parallel-item::before {content: \"\";position: absolute;border-left: 1px solid gray;box-sizing: border-box;top: 0;bottom: 0;left: 50%;z-index: -1;}#sk-container-id-1 div.sk-parallel-item {display: flex;flex-direction: column;z-index: 1;position: relative;background-color: white;}#sk-container-id-1 div.sk-parallel-item:first-child::after {align-self: flex-end;width: 50%;}#sk-container-id-1 div.sk-parallel-item:last-child::after {align-self: flex-start;width: 50%;}#sk-container-id-1 div.sk-parallel-item:only-child::after {width: 0;}#sk-container-id-1 div.sk-dashed-wrapped {border: 1px dashed gray;margin: 0 0.4em 0.5em 0.4em;box-sizing: border-box;padding-bottom: 0.4em;background-color: white;}#sk-container-id-1 div.sk-label label {font-family: monospace;font-weight: bold;display: inline-block;line-height: 1.2em;}#sk-container-id-1 div.sk-label-container {text-align: center;}#sk-container-id-1 div.sk-container {/* jupyter's `normalize.less` sets `[hidden] { display: none; }` but bootstrap.min.css set `[hidden] { display: none !important; }` so we also need the `!important` here to be able to override the default hidden behavior on the sphinx rendered scikit-learn.org. See: https://github.com/scikit-learn/scikit-learn/issues/21755 */display: inline-block !important;position: relative;}#sk-container-id-1 div.sk-text-repr-fallback {display: none;}</style><div id=\"sk-container-id-1\" class=\"sk-top-container\"><div class=\"sk-text-repr-fallback\"><pre>RandomForestRegressor()</pre><b>In a Jupyter environment, please rerun this cell to show the HTML representation or trust the notebook. <br />On GitHub, the HTML representation is unable to render, please try loading this page with nbviewer.org.</b></div><div class=\"sk-container\" hidden><div class=\"sk-item\"><div class=\"sk-estimator sk-toggleable\"><input class=\"sk-toggleable__control sk-hidden--visually\" id=\"sk-estimator-id-1\" type=\"checkbox\" checked><label for=\"sk-estimator-id-1\" class=\"sk-toggleable__label sk-toggleable__label-arrow\">RandomForestRegressor</label><div class=\"sk-toggleable__content\"><pre>RandomForestRegressor()</pre></div></div></div></div></div>"
      ],
      "text/plain": [
       "RandomForestRegressor()"
      ]
     },
     "execution_count": 31,
     "metadata": {},
     "output_type": "execute_result"
    }
   ],
   "source": [
    "# Train a random forest regressor to predict carbon sequestration rate based on input features \n",
    "model = RandomForestRegressor() \n",
    "model.fit(X, y) "
   ]
  },
  {
   "cell_type": "code",
   "execution_count": null,
   "id": "4001738f",
   "metadata": {},
   "outputs": [],
   "source": [
    "# Use the trained model to make predictions on new data \n",
    "new_data = pd.read_csv('new_project.csv') \n",
    "X_new = new_data[['soil_moisture', 'temperature', 'carbon_dioxide_levels']] \n",
    "predictions = model.predict(X_new)"
   ]
  }
 ],
 "metadata": {
  "kernelspec": {
   "display_name": "Python 3 (ipykernel)",
   "language": "python",
   "name": "python3"
  },
  "language_info": {
   "codemirror_mode": {
    "name": "ipython",
    "version": 3
   },
   "file_extension": ".py",
   "mimetype": "text/x-python",
   "name": "python",
   "nbconvert_exporter": "python",
   "pygments_lexer": "ipython3",
   "version": "3.11.3"
  }
 },
 "nbformat": 4,
 "nbformat_minor": 5
}
